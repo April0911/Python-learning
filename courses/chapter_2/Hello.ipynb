{
 "cells": [
  {
   "cell_type": "code",
   "execution_count": null,
   "metadata": {},
   "outputs": [],
   "source": [
    "# -*- coding: utf-8 -*-\n",
    "# Quick Pytohn Script Explanation for Progeammers\n",
    "# 给程序员的超快速Py脚本解说\n",
    "import os\n",
    "\n",
    "def main():\n",
    "    print('Hello World!')\n",
    "    print(\"这是Alice\\'的问候.\") \n",
    "    print('这是Bob\\'的问候.')\n",
    "    foo(5, 10)\n",
    "    print('=' * 10)\n",
    "    print('这将直接执行'+os.getcwd())\n",
    "    counter = 0\n",
    "    counter += 1\n",
    "    food = ['苹果', '杏子', '李子', '梨']\n",
    "    for i in food:\n",
    "        print('俺就爱整只:'+i)\n",
    "    print('数到10')\n",
    "    for i in range(10):\n",
    "        print(i)\n",
    "\n",
    "def foo(param1, secondParam):\n",
    "    res = param1+secondParam\n",
    "    print('%s 加 %s 等于 %s'%(param1, secondParam, res))\n",
    "    if res < 50:\n",
    "        print('这个')\n",
    "    elif (res>=50) and ((param1==42) or (secondParam==24)):\n",
    "        print('那个')\n",
    "    else:\n",
    "        print('嗯...')\n",
    "    return res  # 这是单行注释\n",
    "    '''这是多\n",
    "行注释......'''\n",
    "\n",
    "if __name__=='__main__':\n",
    "    main()"
   ]
  }
 ],
 "metadata": {
  "kernelspec": {
   "display_name": "Python 3",
   "language": "python",
   "name": "python3"
  },
  "language_info": {
   "codemirror_mode": {
    "name": "ipython",
    "version": 3
   },
   "file_extension": ".py",
   "mimetype": "text/x-python",
   "name": "python",
   "nbconvert_exporter": "python",
   "pygments_lexer": "ipython3",
   "version": "3.6.3"
  }
 },
 "nbformat": 4,
 "nbformat_minor": 2
}
